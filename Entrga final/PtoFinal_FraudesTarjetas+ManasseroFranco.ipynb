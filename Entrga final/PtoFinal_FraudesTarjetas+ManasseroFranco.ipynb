{
  "cells": [
    {
      "cell_type": "markdown",
      "metadata": {
        "id": "CZHe-z8Kjy_0"
      },
      "source": [
        "# Resumen primera entrega"
      ]
    },
    {
      "cell_type": "markdown",
      "metadata": {
        "id": "T_TLiahnkL-F"
      },
      "source": [
        "Este proyecto busca desarrollar un **modelo predictivo** para detectar transacciones fraudulentas con tarjetas de crédito, utilizando un dataset simulado que incluye información como montos, categorías de gasto y ubicaciones. La variable objetivo (*is_fraud*) clasifica las transacciones como fraudulentas (1) o no (0), planteando un problema de **clasificación binaria**. El análisis exploratorio (EDA) reveló que los fraudes son más comunes en montos bajos, en mujeres (aunque con montos menores) y en días como domingos, martes y jueves, especialmente durante la madrugada y la noche. Estas observaciones permiten proponer estrategias como monitoreo intensivo en horarios críticos y alertas en días clave. El objetivo final es implementar un modelo que ayude a las instituciones financieras a prevenir fraudes de manera eficiente."
      ]
    },
    {
      "cell_type": "markdown",
      "metadata": {
        "id": "ZEeo1hORlMw6"
      },
      "source": [
        "# Proyecto Final"
      ]
    },
    {
      "cell_type": "markdown",
      "metadata": {
        "id": "c_ERY7E4laA9"
      },
      "source": [
        "El problema de detección de fraude es un caso de **aprendizaje supervisado**, específicamente de **clasificación binaria**. El objetivo es entrenar un modelo que pueda predecir la clase correcta (fraude o no fraude) para nuevas transacciones.\n",
        "\n",
        "El modelo de aprendisaje a utilizar va a ser **Random Forest** ya que combina múltiples árboles de decisión para mejorar la precisión y reducir el sobreajuste y es ideal para manejar datasets grandes y complejos, como este.\n",
        "\n"
      ]
    },
    {
      "cell_type": "markdown",
      "metadata": {
        "id": "csuETn4Gh2qn"
      },
      "source": [
        "# Librerías"
      ]
    },
    {
      "cell_type": "code",
      "execution_count": 1,
      "metadata": {
        "colab": {
          "base_uri": "https://localhost:8080/"
        },
        "id": "yaavb-nQh2qp",
        "outputId": "f1bd6404-fbce-47fe-a4c4-f1c76570387b"
      },
      "outputs": [],
      "source": [
        "# from google.colab import drive\n",
        "# drive.mount('/content/gdrive')\n",
        "\n",
        "import os\n",
        "import pandas               as pd\n",
        "import matplotlib.pyplot    as plt\n",
        "import seaborn              as sns\n",
        "\n",
        "from sklearn.tree               import DecisionTreeClassifier\n",
        "from sklearn.preprocessing      import LabelEncoder\n",
        "from sklearn.model_selection    import train_test_split\n",
        "from sklearn.ensemble           import RandomForestClassifier\n",
        "from sklearn.metrics            import accuracy_score, classification_report, confusion_matrix\n",
        "from sklearn.feature_selection  import SelectKBest, f_classif"
      ]
    },
    {
      "cell_type": "markdown",
      "metadata": {
        "id": "uedHHZe6h2qq"
      },
      "source": [
        "# Dataset"
      ]
    },
    {
      "cell_type": "code",
      "execution_count": 2,
      "metadata": {
        "colab": {
          "base_uri": "https://localhost:8080/"
        },
        "id": "UFtfO8hnh2qq",
        "outputId": "5c602e4a-8d1e-41e2-f77f-2309ca38a4b3"
      },
      "outputs": [],
      "source": [
        "# %cd '/content/gdrive/MyDrive/Data Science I/Preentrega 1'\n",
        "\n",
        "# carga del archivo CSV\n",
        "# df = pd.read_csv('fraudTest.csv', sep=',')\n",
        "df = pd.read_csv('../CSV/fraud.csv', sep=',')\n",
        "\n",
        "df = df.drop(columns=['Unnamed: 0'])"
      ]
    },
    {
      "cell_type": "markdown",
      "metadata": {
        "id": "XLvp-Bgvh2qr"
      },
      "source": [
        "# Variables Predictoras y Objetivo"
      ]
    },
    {
      "cell_type": "code",
      "execution_count": 17,
      "metadata": {
        "id": "Zjjrvin3h2qr"
      },
      "outputs": [],
      "source": [
        "X = df.drop(columns=['is_fraud'])  # Variables predictoras\n",
        "y = df['is_fraud']  # Variable objetivo\n"
      ]
    },
    {
      "cell_type": "markdown",
      "metadata": {
        "id": "wi9VecVch2qr"
      },
      "source": [
        "#Seleccion de Variables"
      ]
    },
    {
      "cell_type": "markdown",
      "metadata": {
        "id": "qV55vRJeh2qr"
      },
      "source": [
        "### Preparacion de los datos"
      ]
    },
    {
      "cell_type": "code",
      "execution_count": 18,
      "metadata": {
        "colab": {
          "base_uri": "https://localhost:8080/"
        },
        "id": "kVc6DE_xh2qs",
        "outputId": "224b7cbc-5aee-4948-c126-72b662d0a281"
      },
      "outputs": [
        {
          "name": "stdout",
          "output_type": "stream",
          "text": [
            "cc_num                 int64\n",
            "merchant               int64\n",
            "category               int64\n",
            "amt                  float64\n",
            "zip                    int64\n",
            "lat                  float64\n",
            "long                 float64\n",
            "city_pop               int64\n",
            "unix_time              int64\n",
            "merch_lat            float64\n",
            "merch_long           float64\n",
            "trans_day_of_week      int32\n",
            "trans_hour             int32\n",
            "age                    int64\n",
            "gender_M                bool\n",
            "dtype: object\n"
          ]
        }
      ],
      "source": [
        "# de string a datetime\n",
        "X['trans_date_trans_time'] = pd.to_datetime(X['trans_date_trans_time'])\n",
        "\n",
        "# dia de la semana (0 = lunes, 6 = domingo)\n",
        "X['trans_day_of_week'] = X['trans_date_trans_time'].dt.dayofweek\n",
        "\n",
        "# hora\n",
        "X['trans_hour'] = X['trans_date_trans_time'].dt.hour\n",
        "\n",
        "# de string a datetime\n",
        "X['dob'] = pd.to_datetime(X['dob'], errors='coerce')\n",
        "\n",
        "#fecha de  la transacion menos fecha de nacimiento = edad cuando se hizo la transaccion\n",
        "X['age'] = (X['trans_date_trans_time'] - X['dob']).dt.days // 365\n",
        "\n",
        "\n",
        "# elimino columnas innecesarias\n",
        "cols_to_drop = ['first', 'last', 'street', 'city', 'state', 'job', 'trans_num', 'trans_date_trans_time','dob']\n",
        "X = X.drop(columns=cols_to_drop, errors='ignore')\n",
        "\n",
        "# variables con muchas categorias\n",
        "high_cardinality_cols = ['merchant', 'category']\n",
        "le = LabelEncoder()\n",
        "for col in high_cardinality_cols:\n",
        "    X[col] = le.fit_transform(X[col]) #transformadas a numeros\n",
        "\n",
        "# variables con pocas categorias\n",
        "low_cardinality_cols = ['gender']\n",
        "X = pd.get_dummies(X, columns=low_cardinality_cols, drop_first=True) #one-hot encoding\n",
        "\n",
        "# verificacion los tipos de datos\n",
        "print(X.dtypes)"
      ]
    },
    {
      "cell_type": "markdown",
      "metadata": {
        "id": "84NMZz6Sh2qs"
      },
      "source": [
        "### SelectKBest"
      ]
    },
    {
      "cell_type": "code",
      "execution_count": 19,
      "metadata": {
        "colab": {
          "base_uri": "https://localhost:8080/"
        },
        "id": "qZxVSJNGh2qt",
        "outputId": "19ae8373-d5ca-483a-ebab-7b70f4bbae06"
      },
      "outputs": [
        {
          "name": "stdout",
          "output_type": "stream",
          "text": [
            "Caracteristicas seleccionadas: Index(['category', 'amt', 'zip', 'lat', 'city_pop', 'unix_time', 'merch_lat',\n",
            "       'trans_day_of_week', 'trans_hour', 'age'],\n",
            "      dtype='object')\n"
          ]
        }
      ],
      "source": [
        "# eleccion de variables importantes\n",
        "selector = SelectKBest(score_func=f_classif, k=10)  # 10 mejores caracteristicas\n",
        "X_selected = selector.fit_transform(X, y)\n",
        "\n",
        "selected_features = X.columns[selector.get_support()] # nombres de las variables\n",
        "print(\"Caracteristicas seleccionadas:\", selected_features)"
      ]
    },
    {
      "cell_type": "markdown",
      "metadata": {
        "id": "R5S0XOWTh2qt"
      },
      "source": [
        "# Datos de entrenamiento y prueba"
      ]
    },
    {
      "cell_type": "code",
      "execution_count": 20,
      "metadata": {
        "id": "ZEvt6rrHh2qt"
      },
      "outputs": [],
      "source": [
        "X_train, X_test, y_train, y_test = train_test_split(\n",
        "    X_selected, #variable pre seleccionadas\n",
        "    y, # variable a pred3ecir\n",
        "    test_size=0.2, # 80 entrenamiento / 20 prueba\n",
        "    random_state=1234, #semilla\n",
        "    stratify=y #los datos de fraude estan desbalanceados.\n",
        ")"
      ]
    },
    {
      "cell_type": "markdown",
      "metadata": {
        "id": "qIth8XXwh2qt"
      },
      "source": [
        "# Entrenamiento del modelo"
      ]
    },
    {
      "cell_type": "markdown",
      "metadata": {
        "id": "Tv5BI9qSh2qu"
      },
      "source": [
        "## Random Forest"
      ]
    },
    {
      "cell_type": "code",
      "execution_count": 21,
      "metadata": {
        "id": "KaHNJX2Eh2qu"
      },
      "outputs": [],
      "source": [
        "clf = RandomForestClassifier(\n",
        "    n_estimators=100,  # n arboles\n",
        "    max_depth=10,  # profundidad max\n",
        "    random_state=1234\n",
        ")\n",
        "clf = DecisionTreeClassifier(random_state=1234)\n",
        "model = clf.fit(X_train, y_train)"
      ]
    },
    {
      "cell_type": "markdown",
      "metadata": {
        "id": "4l2hPlEOh2qu"
      },
      "source": [
        "### Evaluacion del modelo"
      ]
    },
    {
      "cell_type": "code",
      "execution_count": 22,
      "metadata": {
        "colab": {
          "base_uri": "https://localhost:8080/",
          "height": 756
        },
        "id": "kA2_X1Aeh2qu",
        "outputId": "fa2937b3-e38d-46c3-e245-9b39021c30cd"
      },
      "outputs": [
        {
          "data": {
            "image/png": "[encoded data removed]",
            "text/plain": [
              "<Figure size 640x480 with 2 Axes>"
            ]
          },
          "metadata": {},
          "output_type": "display_data"
        },
        {
          "name": "stdout",
          "output_type": "stream",
          "text": [
            "\n",
            "Accuracy: 0.9978496365075937\n",
            "\n",
            "Reporte de Clasificación:\n",
            "              precision    recall  f1-score   support\n",
            "\n",
            "           0       1.00      1.00      1.00    110715\n",
            "           1       0.71      0.74      0.73       429\n",
            "\n",
            "    accuracy                           1.00    111144\n",
            "   macro avg       0.86      0.87      0.86    111144\n",
            "weighted avg       1.00      1.00      1.00    111144\n",
            "\n"
          ]
        }
      ],
      "source": [
        "predicciones = model.predict(X_test)\n",
        "\n",
        "#Matriz de confusion\n",
        "cf_matrix = confusion_matrix(y_test, predicciones)\n",
        "ax = sns.heatmap(cf_matrix, annot=True, cmap='Blues', fmt='d')\n",
        "ax.set_title('Matriz de confusion\\n\\n')\n",
        "ax.set_xlabel('\\nValores predichos')\n",
        "ax.set_ylabel('Valores reales ')\n",
        "ax.xaxis.set_ticklabels(['False','True'])\n",
        "ax.yaxis.set_ticklabels(['False','True'])\n",
        "plt.show()\n",
        "\n",
        "print(\"\\nAccuracy:\", accuracy_score(y_test, predicciones))\n",
        "\n",
        "print(\"\\nReporte de Clasificación:\")\n",
        "print(classification_report(y_test, predicciones))"
      ]
    },
    {
      "cell_type": "code",
      "execution_count": 23,
      "metadata": {
        "id": "kvaJb6Hfh2qv"
      },
      "outputs": [],
      "source": [
        "clf = DecisionTreeClassifier(random_state=1234)\n",
        "model2 = clf.fit(X_train, y_train)"
      ]
    },
    {
      "cell_type": "markdown",
      "metadata": {
        "id": "fA1F8_qih2qv"
      },
      "source": [
        "# Visualicion de las Variables con Importancia"
      ]
    },
    {
      "cell_type": "code",
      "execution_count": 24,
      "metadata": {
        "colab": {
          "base_uri": "https://localhost:8080/",
          "height": 487
        },
        "id": "ZHkXdPoqh2qw",
        "outputId": "ad074e69-78c6-4fbb-df7d-225d1af2c19f"
      },
      "outputs": [
        {
          "data": {
            "image/png": "[encoded data removed]",
            "text/plain": [
              "<Figure size 1000x500 with 1 Axes>"
            ]
          },
          "metadata": {},
          "output_type": "display_data"
        }
      ],
      "source": [
        "importances = model.feature_importances_\n",
        "feature_importance_df = pd.DataFrame(\n",
        "    {\"Variables\": selected_features, \"Importancia\": importances}\n",
        ").sort_values(by=\"Importancia\", ascending=False)\n",
        "\n",
        "plt.figure(figsize=(10,5))\n",
        "sns.barplot(x=\"Importancia\", y=\"Variables\", data=feature_importance_df)\n",
        "plt.title(\"Importancia de las Variables en Random Forest\")\n",
        "plt.show()"
      ]
    },
    {
      "cell_type": "markdown",
      "metadata": {
        "id": "g4guFWg0uOGk"
      },
      "source": [
        "# Conclusiones"
      ]
    },
    {
      "cell_type": "markdown",
      "metadata": {
        "id": "GnHJdtmOuN6l"
      },
      "source": [
        "El modelo mostró un **accuracy** del 99.78%, lo que indica un alto nivel de precisión en la clasificación de transacciones. Sin embargo, al analizar la matriz de confusión y el reporte de clasificación, se observó que, el modelo es excelente para identificar transacciones no fraudulentas (clase 0) yno asi para la detección de fraudes (clase 1), con un **recall** del 74% y un **f1-score** del 73%, esto se debe al desbalance de clases, donde las transacciones fraudulentas representan menos del -1% del dataset.\n",
        "\n",
        "El análisis de la importancia de las variables reveló que la categoría del comercio (category) y el monto de la transacción (amt) son los factores más determinantes para predecir fraudes, seguidos por la hora de la transacción (trans_hour) y la edad del titular (age). Estas variables respaldan los hallazgos del EDA y refuerzan la necesidad de enfocarse en estos aspectos para mejorar la detección de fraudes.\n",
        "\n",
        "El modelo de **Random Forest** demostró ser efectivo para la detección de transacciones no fraudulentas, pero se requiere mejorar su capacidad para identificar fraudes. Futuros trabajos podrían incluir técnicas avanzadas de manejo de desbalance, como **SMOTE**."
      ]
    },
    {
      "cell_type": "code",
      "execution_count": null,
      "metadata": {
        "id": "_u-bWG31xL_s"
      },
      "outputs": [],
      "source": []
    }
  ],
  "metadata": {
    "colab": {
      "provenance": []
    },
    "kernelspec": {
      "display_name": "base",
      "language": "python",
      "name": "python3"
    },
    "language_info": {
      "codemirror_mode": {
        "name": "ipython",
        "version": 3
      },
      "file_extension": ".py",
      "mimetype": "text/x-python",
      "name": "python",
      "nbconvert_exporter": "python",
      "pygments_lexer": "ipython3",
      "version": "3.12.3"
    }
  },
  "nbformat": 4,
  "nbformat_minor": 0
}
