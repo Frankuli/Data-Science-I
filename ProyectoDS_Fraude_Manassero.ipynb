{
  "cells": [
    {
      "cell_type": "markdown",
      "metadata": {
        "colab_type": "text",
        "id": "view-in-github"
      },
      "source": [
        "<a href=\"https://colab.research.google.com/github/Frankuli/Data-Science-I/blob/main/ProyectoDS_Fraude_Manassero.ipynb\" target=\"_parent\"><img src=\"https://colab.research.google.com/assets/colab-badge.svg\" alt=\"Open In Colab\"/></a>"
      ]
    },
    {
      "cell_type": "markdown",
      "metadata": {
        "id": "2vGlxnsBLieW"
      },
      "source": []
    },
    {
      "cell_type": "markdown",
      "metadata": {
        "id": "o9nocVG1LM2K"
      },
      "source": [
        "# **Introducción**"
      ]
    },
    {
      "cell_type": "markdown",
      "metadata": {
        "id": "hbDtkK2NLbw6"
      },
      "source": [
        "\n",
        "En este proyecto trabajare con el ***Credit Card Transactions Fraud Detection Dataset***, un conjunto de datos simulado que aborda un desafío clave en el ámbito financiero: la detección de fraudes en transacciones con tarjetas de crédito. Este dataset fue creado utilizando la herramienta **Sparkov Data Generation**, diseñada por *Brandon Harris*, que genera transacciones simuladas basadas en perfiles demográficos y patrones de comportamiento transaccional, logrando características muy cercanas a escenarios reales.\n",
        "\n",
        "El dataset incluye registros de transacciones realizadas entre **enero de 2019 y diciembre de 2020**, con un equilibrio entre transacciones legítimas y fraudulentas. En total, se recopilan datos de **1000 clientes y 800 comerciantes**, detallando aspectos como montos de las transacciones, categorías de gasto, ubicaciones de los comerciantes y características demográficas de los clientes. La detección de fraudes en transacciones con tarjetas de crédito es crucial para proteger a los clientes y minimizar pérdidas económicas para las instituciones financieras. Este nivel de detalle lo convierte en un recurso ideal para analizar patrones de fraude y explorar soluciones basadas en datos para prevenir este tipo de actividades.\n",
        "Fuente: https://www.kaggle.com/datasets/kartik2112/fraud-detection\n"
      ]
    },
    {
      "cell_type": "code",
      "execution_count": null,
      "metadata": {
        "colab": {
          "base_uri": "https://localhost:8080/"
        },
        "id": "1X1zRCSjVh_M",
        "outputId": "9ad7fce2-3454-4905-87c1-6eca859cb994"
      },
      "outputs": [],
      "source": [
        "# Importacion de librerias\n",
        "# from google.colab import drive\n",
        "# drive.mount('/content/gdrive')\n",
        "import os\n",
        "import pandas as pd\n",
        "import numpy as np\n",
        "import matplotlib.pyplot as plt\n",
        "import seaborn as sns"
      ]
    },
    {
      "cell_type": "code",
      "execution_count": 7,
      "metadata": {
        "colab": {
          "base_uri": "https://localhost:8080/"
        },
        "id": "Jt2iAmXmFQQc",
        "outputId": "11751f6d-f1cb-479b-9dc4-101478695ad7"
      },
      "outputs": [],
      "source": [
        "# %cd '/content/gdrive/MyDrive/Data Science I/Preentrega 1'\n",
        "\n",
        "#Muestra todas las columnas\n",
        "pd.set_option('display.max_columns', None)\n",
        "\n",
        "# Cargar el archivo CSV\n",
        "df = pd.read_csv('fraudTest.csv', sep=',')"
      ]
    },
    {
      "cell_type": "markdown",
      "metadata": {
        "id": "IT_5CEW0OUiv"
      },
      "source": [
        "# Detalles"
      ]
    },
    {
      "cell_type": "markdown",
      "metadata": {
        "id": "dFwodobEWOob"
      },
      "source": [
        "## Exploracion del Dataset"
      ]
    },
    {
      "cell_type": "code",
      "execution_count": null,
      "metadata": {
        "colab": {
          "base_uri": "https://localhost:8080/",
          "height": 452
        },
        "id": "rnJQNO2xXX1-",
        "outputId": "68993297-6c1b-4d85-a5b4-4fc9995531f0"
      },
      "outputs": [
        {
          "data": {
            "application/vnd.google.colaboratory.intrinsic+json": {
              "type": "dataframe",
              "variable_name": "df"
            },
            "text/html": [
              "\n",
              "  <div id=\"df-0006c122-24d9-44ca-b357-7f2f21dfe412\" class=\"colab-df-container\">\n",
              "    <div>\n",
              "<style scoped>\n",
              "    .dataframe tbody tr th:only-of-type {\n",
              "        vertical-align: middle;\n",
              "    }\n",
              "\n",
              "    .dataframe tbody tr th {\n",
              "        vertical-align: top;\n",
              "    }\n",
              "\n",
              "    .dataframe thead th {\n",
              "        text-align: right;\n",
              "    }\n",
              "</style>\n",
              "<table border=\"1\" class=\"dataframe\">\n",
              "  <thead>\n",
              "    <tr style=\"text-align: right;\">\n",
              "      <th></th>\n",
              "      <th>Unnamed: 0</th>\n",
              "      <th>trans_date_trans_time</th>\n",
              "      <th>cc_num</th>\n",
              "      <th>merchant</th>\n",
              "      <th>category</th>\n",
              "      <th>amt</th>\n",
              "      <th>first</th>\n",
              "      <th>last</th>\n",
              "      <th>gender</th>\n",
              "      <th>street</th>\n",
              "      <th>city</th>\n",
              "      <th>state</th>\n",
              "      <th>zip</th>\n",
              "      <th>lat</th>\n",
              "      <th>long</th>\n",
              "      <th>city_pop</th>\n",
              "      <th>job</th>\n",
              "      <th>dob</th>\n",
              "      <th>trans_num</th>\n",
              "      <th>unix_time</th>\n",
              "      <th>merch_lat</th>\n",
              "      <th>merch_long</th>\n",
              "      <th>is_fraud</th>\n",
              "    </tr>\n",
              "  </thead>\n",
              "  <tbody>\n",
              "    <tr>\n",
              "      <th>0</th>\n",
              "      <td>0</td>\n",
              "      <td>2020-06-21 12:14:25</td>\n",
              "      <td>2291163933867244</td>\n",
              "      <td>fraud_Kirlin and Sons</td>\n",
              "      <td>personal_care</td>\n",
              "      <td>2.86</td>\n",
              "      <td>Jeff</td>\n",
              "      <td>Elliott</td>\n",
              "      <td>M</td>\n",
              "      <td>351 Darlene Green</td>\n",
              "      <td>Columbia</td>\n",
              "      <td>SC</td>\n",
              "      <td>29209</td>\n",
              "      <td>33.9659</td>\n",
              "      <td>-80.9355</td>\n",
              "      <td>333497</td>\n",
              "      <td>Mechanical engineer</td>\n",
              "      <td>1968-03-19</td>\n",
              "      <td>2da90c7d74bd46a0caf3777415b3ebd3</td>\n",
              "      <td>1371816865</td>\n",
              "      <td>33.986391</td>\n",
              "      <td>-81.200714</td>\n",
              "      <td>0</td>\n",
              "    </tr>\n",
              "    <tr>\n",
              "      <th>1</th>\n",
              "      <td>1</td>\n",
              "      <td>2020-06-21 12:14:33</td>\n",
              "      <td>3573030041201292</td>\n",
              "      <td>fraud_Sporer-Keebler</td>\n",
              "      <td>personal_care</td>\n",
              "      <td>29.84</td>\n",
              "      <td>Joanne</td>\n",
              "      <td>Williams</td>\n",
              "      <td>F</td>\n",
              "      <td>3638 Marsh Union</td>\n",
              "      <td>Altonah</td>\n",
              "      <td>UT</td>\n",
              "      <td>84002</td>\n",
              "      <td>40.3207</td>\n",
              "      <td>-110.4360</td>\n",
              "      <td>302</td>\n",
              "      <td>Sales professional, IT</td>\n",
              "      <td>1990-01-17</td>\n",
              "      <td>324cc204407e99f51b0d6ca0055005e7</td>\n",
              "      <td>1371816873</td>\n",
              "      <td>39.450498</td>\n",
              "      <td>-109.960431</td>\n",
              "      <td>0</td>\n",
              "    </tr>\n",
              "    <tr>\n",
              "      <th>2</th>\n",
              "      <td>2</td>\n",
              "      <td>2020-06-21 12:14:53</td>\n",
              "      <td>3598215285024754</td>\n",
              "      <td>fraud_Swaniawski, Nitzsche and Welch</td>\n",
              "      <td>health_fitness</td>\n",
              "      <td>41.28</td>\n",
              "      <td>Ashley</td>\n",
              "      <td>Lopez</td>\n",
              "      <td>F</td>\n",
              "      <td>9333 Valentine Point</td>\n",
              "      <td>Bellmore</td>\n",
              "      <td>NY</td>\n",
              "      <td>11710</td>\n",
              "      <td>40.6729</td>\n",
              "      <td>-73.5365</td>\n",
              "      <td>34496</td>\n",
              "      <td>Librarian, public</td>\n",
              "      <td>1970-10-21</td>\n",
              "      <td>c81755dbbbea9d5c77f094348a7579be</td>\n",
              "      <td>1371816893</td>\n",
              "      <td>40.495810</td>\n",
              "      <td>-74.196111</td>\n",
              "      <td>0</td>\n",
              "    </tr>\n",
              "    <tr>\n",
              "      <th>3</th>\n",
              "      <td>3</td>\n",
              "      <td>2020-06-21 12:15:15</td>\n",
              "      <td>3591919803438423</td>\n",
              "      <td>fraud_Haley Group</td>\n",
              "      <td>misc_pos</td>\n",
              "      <td>60.05</td>\n",
              "      <td>Brian</td>\n",
              "      <td>Williams</td>\n",
              "      <td>M</td>\n",
              "      <td>32941 Krystal Mill Apt. 552</td>\n",
              "      <td>Titusville</td>\n",
              "      <td>FL</td>\n",
              "      <td>32780</td>\n",
              "      <td>28.5697</td>\n",
              "      <td>-80.8191</td>\n",
              "      <td>54767</td>\n",
              "      <td>Set designer</td>\n",
              "      <td>1987-07-25</td>\n",
              "      <td>2159175b9efe66dc301f149d3d5abf8c</td>\n",
              "      <td>1371816915</td>\n",
              "      <td>28.812398</td>\n",
              "      <td>-80.883061</td>\n",
              "      <td>0</td>\n",
              "    </tr>\n",
              "    <tr>\n",
              "      <th>4</th>\n",
              "      <td>4</td>\n",
              "      <td>2020-06-21 12:15:17</td>\n",
              "      <td>3526826139003047</td>\n",
              "      <td>fraud_Johnston-Casper</td>\n",
              "      <td>travel</td>\n",
              "      <td>3.19</td>\n",
              "      <td>Nathan</td>\n",
              "      <td>Massey</td>\n",
              "      <td>M</td>\n",
              "      <td>5783 Evan Roads Apt. 465</td>\n",
              "      <td>Falmouth</td>\n",
              "      <td>MI</td>\n",
              "      <td>49632</td>\n",
              "      <td>44.2529</td>\n",
              "      <td>-85.0170</td>\n",
              "      <td>1126</td>\n",
              "      <td>Furniture designer</td>\n",
              "      <td>1955-07-06</td>\n",
              "      <td>57ff021bd3f328f8738bb535c302a31b</td>\n",
              "      <td>1371816917</td>\n",
              "      <td>44.959148</td>\n",
              "      <td>-85.884734</td>\n",
              "      <td>0</td>\n",
              "    </tr>\n",
              "  </tbody>\n",
              "</table>\n",
              "</div>\n",
              "    <div class=\"colab-df-buttons\">\n",
              "\n",
              "  <div class=\"colab-df-container\">\n",
              "    <button class=\"colab-df-convert\" onclick=\"convertToInteractive('df-0006c122-24d9-44ca-b357-7f2f21dfe412')\"\n",
              "            title=\"Convert this dataframe to an interactive table.\"\n",
              "            style=\"display:none;\">\n",
              "\n",
              "  <svg xmlns=\"http://www.w3.org/2000/svg\" height=\"24px\" viewBox=\"0 -960 960 960\">\n",
              "    <path d=\"M120-120v-720h720v720H120Zm60-500h600v-160H180v160Zm220 220h160v-160H400v160Zm0 220h160v-160H400v160ZM180-400h160v-160H180v160Zm440 0h160v-160H620v160ZM180-180h160v-160H180v160Zm440 0h160v-160H620v160Z\"/>\n",
              "  </svg>\n",
              "    </button>\n",
              "\n",
              "  <style>\n",
              "    .colab-df-container {\n",
              "      display:flex;\n",
              "      gap: 12px;\n",
              "    }\n",
              "\n",
              "    .colab-df-convert {\n",
              "      background-color: #E8F0FE;\n",
              "      border: none;\n",
              "      border-radius: 50%;\n",
              "      cursor: pointer;\n",
              "      display: none;\n",
              "      fill: #1967D2;\n",
              "      height: 32px;\n",
              "      padding: 0 0 0 0;\n",
              "      width: 32px;\n",
              "    }\n",
              "\n",
              "    .colab-df-convert:hover {\n",
              "      background-color: #E2EBFA;\n",
              "      box-shadow: 0px 1px 2px rgba(60, 64, 67, 0.3), 0px 1px 3px 1px rgba(60, 64, 67, 0.15);\n",
              "      fill: #174EA6;\n",
              "    }\n",
              "\n",
              "    .colab-df-buttons div {\n",
              "      margin-bottom: 4px;\n",
              "    }\n",
              "\n",
              "    [theme=dark] .colab-df-convert {\n",
              "      background-color: #3B4455;\n",
              "      fill: #D2E3FC;\n",
              "    }\n",
              "\n",
              "    [theme=dark] .colab-df-convert:hover {\n",
              "      background-color: #434B5C;\n",
              "      box-shadow: 0px 1px 3px 1px rgba(0, 0, 0, 0.15);\n",
              "      filter: drop-shadow(0px 1px 2px rgba(0, 0, 0, 0.3));\n",
              "      fill: #FFFFFF;\n",
              "    }\n",
              "  </style>\n",
              "\n",
              "    <script>\n",
              "      const buttonEl =\n",
              "        document.querySelector('#df-0006c122-24d9-44ca-b357-7f2f21dfe412 button.colab-df-convert');\n",
              "      buttonEl.style.display =\n",
              "        google.colab.kernel.accessAllowed ? 'block' : 'none';\n",
              "\n",
              "      async function convertToInteractive(key) {\n",
              "        const element = document.querySelector('#df-0006c122-24d9-44ca-b357-7f2f21dfe412');\n",
              "        const dataTable =\n",
              "          await google.colab.kernel.invokeFunction('convertToInteractive',\n",
              "                                                    [key], {});\n",
              "        if (!dataTable) return;\n",
              "\n",
              "        const docLinkHtml = 'Like what you see? Visit the ' +\n",
              "          '<a target=\"_blank\" href=https://colab.research.google.com/notebooks/data_table.ipynb>data table notebook</a>'\n",
              "          + ' to learn more about interactive tables.';\n",
              "        element.innerHTML = '';\n",
              "        dataTable['output_type'] = 'display_data';\n",
              "        await google.colab.output.renderOutput(dataTable, element);\n",
              "        const docLink = document.createElement('div');\n",
              "        docLink.innerHTML = docLinkHtml;\n",
              "        element.appendChild(docLink);\n",
              "      }\n",
              "    </script>\n",
              "  </div>\n",
              "\n",
              "\n",
              "<div id=\"df-6d6b2ee1-b5cf-4cc0-a8be-6b03480664dd\">\n",
              "  <button class=\"colab-df-quickchart\" onclick=\"quickchart('df-6d6b2ee1-b5cf-4cc0-a8be-6b03480664dd')\"\n",
              "            title=\"Suggest charts\"\n",
              "            style=\"display:none;\">\n",
              "\n",
              "<svg xmlns=\"http://www.w3.org/2000/svg\" height=\"24px\"viewBox=\"0 0 24 24\"\n",
              "     width=\"24px\">\n",
              "    <g>\n",
              "        <path d=\"M19 3H5c-1.1 0-2 .9-2 2v14c0 1.1.9 2 2 2h14c1.1 0 2-.9 2-2V5c0-1.1-.9-2-2-2zM9 17H7v-7h2v7zm4 0h-2V7h2v10zm4 0h-2v-4h2v4z\"/>\n",
              "    </g>\n",
              "</svg>\n",
              "  </button>\n",
              "\n",
              "<style>\n",
              "  .colab-df-quickchart {\n",
              "      --bg-color: #E8F0FE;\n",
              "      --fill-color: #1967D2;\n",
              "      --hover-bg-color: #E2EBFA;\n",
              "      --hover-fill-color: #174EA6;\n",
              "      --disabled-fill-color: #AAA;\n",
              "      --disabled-bg-color: #DDD;\n",
              "  }\n",
              "\n",
              "  [theme=dark] .colab-df-quickchart {\n",
              "      --bg-color: #3B4455;\n",
              "      --fill-color: #D2E3FC;\n",
              "      --hover-bg-color: #434B5C;\n",
              "      --hover-fill-color: #FFFFFF;\n",
              "      --disabled-bg-color: #3B4455;\n",
              "      --disabled-fill-color: #666;\n",
              "  }\n",
              "\n",
              "  .colab-df-quickchart {\n",
              "    background-color: var(--bg-color);\n",
              "    border: none;\n",
              "    border-radius: 50%;\n",
              "    cursor: pointer;\n",
              "    display: none;\n",
              "    fill: var(--fill-color);\n",
              "    height: 32px;\n",
              "    padding: 0;\n",
              "    width: 32px;\n",
              "  }\n",
              "\n",
              "  .colab-df-quickchart:hover {\n",
              "    background-color: var(--hover-bg-color);\n",
              "    box-shadow: 0 1px 2px rgba(60, 64, 67, 0.3), 0 1px 3px 1px rgba(60, 64, 67, 0.15);\n",
              "    fill: var(--button-hover-fill-color);\n",
              "  }\n",
              "\n",
              "  .colab-df-quickchart-complete:disabled,\n",
              "  .colab-df-quickchart-complete:disabled:hover {\n",
              "    background-color: var(--disabled-bg-color);\n",
              "    fill: var(--disabled-fill-color);\n",
              "    box-shadow: none;\n",
              "  }\n",
              "\n",
              "  .colab-df-spinner {\n",
              "    border: 2px solid var(--fill-color);\n",
              "    border-color: transparent;\n",
              "    border-bottom-color: var(--fill-color);\n",
              "    animation:\n",
              "      spin 1s steps(1) infinite;\n",
              "  }\n",
              "\n",
              "  @keyframes spin {\n",
              "    0% {\n",
              "      border-color: transparent;\n",
              "      border-bottom-color: var(--fill-color);\n",
              "      border-left-color: var(--fill-color);\n",
              "    }\n",
              "    20% {\n",
              "      border-color: transparent;\n",
              "      border-left-color: var(--fill-color);\n",
              "      border-top-color: var(--fill-color);\n",
              "    }\n",
              "    30% {\n",
              "      border-color: transparent;\n",
              "      border-left-color: var(--fill-color);\n",
              "      border-top-color: var(--fill-color);\n",
              "      border-right-color: var(--fill-color);\n",
              "    }\n",
              "    40% {\n",
              "      border-color: transparent;\n",
              "      border-right-color: var(--fill-color);\n",
              "      border-top-color: var(--fill-color);\n",
              "    }\n",
              "    60% {\n",
              "      border-color: transparent;\n",
              "      border-right-color: var(--fill-color);\n",
              "    }\n",
              "    80% {\n",
              "      border-color: transparent;\n",
              "      border-right-color: var(--fill-color);\n",
              "      border-bottom-color: var(--fill-color);\n",
              "    }\n",
              "    90% {\n",
              "      border-color: transparent;\n",
              "      border-bottom-color: var(--fill-color);\n",
              "    }\n",
              "  }\n",
              "</style>\n",
              "\n",
              "  <script>\n",
              "    async function quickchart(key) {\n",
              "      const quickchartButtonEl =\n",
              "        document.querySelector('#' + key + ' button');\n",
              "      quickchartButtonEl.disabled = true;  // To prevent multiple clicks.\n",
              "      quickchartButtonEl.classList.add('colab-df-spinner');\n",
              "      try {\n",
              "        const charts = await google.colab.kernel.invokeFunction(\n",
              "            'suggestCharts', [key], {});\n",
              "      } catch (error) {\n",
              "        console.error('Error during call to suggestCharts:', error);\n",
              "      }\n",
              "      quickchartButtonEl.classList.remove('colab-df-spinner');\n",
              "      quickchartButtonEl.classList.add('colab-df-quickchart-complete');\n",
              "    }\n",
              "    (() => {\n",
              "      let quickchartButtonEl =\n",
              "        document.querySelector('#df-6d6b2ee1-b5cf-4cc0-a8be-6b03480664dd button');\n",
              "      quickchartButtonEl.style.display =\n",
              "        google.colab.kernel.accessAllowed ? 'block' : 'none';\n",
              "    })();\n",
              "  </script>\n",
              "</div>\n",
              "\n",
              "    </div>\n",
              "  </div>\n"
            ],
            "text/plain": [
              "   Unnamed: 0 trans_date_trans_time            cc_num  \\\n",
              "0           0   2020-06-21 12:14:25  2291163933867244   \n",
              "1           1   2020-06-21 12:14:33  3573030041201292   \n",
              "2           2   2020-06-21 12:14:53  3598215285024754   \n",
              "3           3   2020-06-21 12:15:15  3591919803438423   \n",
              "4           4   2020-06-21 12:15:17  3526826139003047   \n",
              "\n",
              "                               merchant        category    amt   first  \\\n",
              "0                 fraud_Kirlin and Sons   personal_care   2.86    Jeff   \n",
              "1                  fraud_Sporer-Keebler   personal_care  29.84  Joanne   \n",
              "2  fraud_Swaniawski, Nitzsche and Welch  health_fitness  41.28  Ashley   \n",
              "3                     fraud_Haley Group        misc_pos  60.05   Brian   \n",
              "4                 fraud_Johnston-Casper          travel   3.19  Nathan   \n",
              "\n",
              "       last gender                       street        city state    zip  \\\n",
              "0   Elliott      M            351 Darlene Green    Columbia    SC  29209   \n",
              "1  Williams      F             3638 Marsh Union     Altonah    UT  84002   \n",
              "2     Lopez      F         9333 Valentine Point    Bellmore    NY  11710   \n",
              "3  Williams      M  32941 Krystal Mill Apt. 552  Titusville    FL  32780   \n",
              "4    Massey      M     5783 Evan Roads Apt. 465    Falmouth    MI  49632   \n",
              "\n",
              "       lat      long  city_pop                     job         dob  \\\n",
              "0  33.9659  -80.9355    333497     Mechanical engineer  1968-03-19   \n",
              "1  40.3207 -110.4360       302  Sales professional, IT  1990-01-17   \n",
              "2  40.6729  -73.5365     34496       Librarian, public  1970-10-21   \n",
              "3  28.5697  -80.8191     54767            Set designer  1987-07-25   \n",
              "4  44.2529  -85.0170      1126      Furniture designer  1955-07-06   \n",
              "\n",
              "                          trans_num   unix_time  merch_lat  merch_long  \\\n",
              "0  2da90c7d74bd46a0caf3777415b3ebd3  1371816865  33.986391  -81.200714   \n",
              "1  324cc204407e99f51b0d6ca0055005e7  1371816873  39.450498 -109.960431   \n",
              "2  c81755dbbbea9d5c77f094348a7579be  1371816893  40.495810  -74.196111   \n",
              "3  2159175b9efe66dc301f149d3d5abf8c  1371816915  28.812398  -80.883061   \n",
              "4  57ff021bd3f328f8738bb535c302a31b  1371816917  44.959148  -85.884734   \n",
              "\n",
              "   is_fraud  \n",
              "0         0  \n",
              "1         0  \n",
              "2         0  \n",
              "3         0  \n",
              "4         0  "
            ]
          },
          "execution_count": 21,
          "metadata": {},
          "output_type": "execute_result"
        }
      ],
      "source": [
        "# Mostrar las primeras filas del dataset\n",
        "df.head()"
      ]
    },
    {
      "cell_type": "code",
      "execution_count": null,
      "metadata": {
        "colab": {
          "base_uri": "https://localhost:8080/"
        },
        "id": "3sdJBzFVUx4X",
        "outputId": "fa784e4a-5028-4551-b9f9-0cc6ed767b52"
      },
      "outputs": [
        {
          "name": "stdout",
          "output_type": "stream",
          "text": [
            "<class 'pandas.core.frame.DataFrame'>\n",
            "RangeIndex: 555719 entries, 0 to 555718\n",
            "Data columns (total 23 columns):\n",
            " #   Column                 Non-Null Count   Dtype  \n",
            "---  ------                 --------------   -----  \n",
            " 0   Unnamed: 0             555719 non-null  int64  \n",
            " 1   trans_date_trans_time  555719 non-null  object \n",
            " 2   cc_num                 555719 non-null  int64  \n",
            " 3   merchant               555719 non-null  object \n",
            " 4   category               555719 non-null  object \n",
            " 5   amt                    555719 non-null  float64\n",
            " 6   first                  555719 non-null  object \n",
            " 7   last                   555719 non-null  object \n",
            " 8   gender                 555719 non-null  object \n",
            " 9   street                 555719 non-null  object \n",
            " 10  city                   555719 non-null  object \n",
            " 11  state                  555719 non-null  object \n",
            " 12  zip                    555719 non-null  int64  \n",
            " 13  lat                    555719 non-null  float64\n",
            " 14  long                   555719 non-null  float64\n",
            " 15  city_pop               555719 non-null  int64  \n",
            " 16  job                    555719 non-null  object \n",
            " 17  dob                    555719 non-null  object \n",
            " 18  trans_num              555719 non-null  object \n",
            " 19  unix_time              555719 non-null  int64  \n",
            " 20  merch_lat              555719 non-null  float64\n",
            " 21  merch_long             555719 non-null  float64\n",
            " 22  is_fraud               555719 non-null  int64  \n",
            "dtypes: float64(5), int64(6), object(12)\n",
            "memory usage: 97.5+ MB\n"
          ]
        }
      ],
      "source": [
        "df.info()"
      ]
    },
    {
      "cell_type": "code",
      "execution_count": 79,
      "metadata": {},
      "outputs": [
        {
          "data": {
            "text/html": [
              "<div>\n",
              "<style scoped>\n",
              "    .dataframe tbody tr th:only-of-type {\n",
              "        vertical-align: middle;\n",
              "    }\n",
              "\n",
              "    .dataframe tbody tr th {\n",
              "        vertical-align: top;\n",
              "    }\n",
              "\n",
              "    .dataframe thead th {\n",
              "        text-align: right;\n",
              "    }\n",
              "</style>\n",
              "<table border=\"1\" class=\"dataframe\">\n",
              "  <thead>\n",
              "    <tr style=\"text-align: right;\">\n",
              "      <th></th>\n",
              "      <th>amt</th>\n",
              "      <th>city_pop</th>\n",
              "    </tr>\n",
              "  </thead>\n",
              "  <tbody>\n",
              "    <tr>\n",
              "      <th>count</th>\n",
              "      <td>555719.0</td>\n",
              "      <td>555719.0</td>\n",
              "    </tr>\n",
              "    <tr>\n",
              "      <th>mean</th>\n",
              "      <td>69.0</td>\n",
              "      <td>88222.0</td>\n",
              "    </tr>\n",
              "    <tr>\n",
              "      <th>std</th>\n",
              "      <td>157.0</td>\n",
              "      <td>300391.0</td>\n",
              "    </tr>\n",
              "    <tr>\n",
              "      <th>min</th>\n",
              "      <td>1.0</td>\n",
              "      <td>23.0</td>\n",
              "    </tr>\n",
              "    <tr>\n",
              "      <th>25%</th>\n",
              "      <td>10.0</td>\n",
              "      <td>741.0</td>\n",
              "    </tr>\n",
              "    <tr>\n",
              "      <th>50%</th>\n",
              "      <td>47.0</td>\n",
              "      <td>2408.0</td>\n",
              "    </tr>\n",
              "    <tr>\n",
              "      <th>75%</th>\n",
              "      <td>83.0</td>\n",
              "      <td>19685.0</td>\n",
              "    </tr>\n",
              "    <tr>\n",
              "      <th>max</th>\n",
              "      <td>22768.0</td>\n",
              "      <td>2906700.0</td>\n",
              "    </tr>\n",
              "  </tbody>\n",
              "</table>\n",
              "</div>"
            ],
            "text/plain": [
              "            amt   city_pop\n",
              "count  555719.0   555719.0\n",
              "mean       69.0    88222.0\n",
              "std       157.0   300391.0\n",
              "min         1.0       23.0\n",
              "25%        10.0      741.0\n",
              "50%        47.0     2408.0\n",
              "75%        83.0    19685.0\n",
              "max     22768.0  2906700.0"
            ]
          },
          "execution_count": 79,
          "metadata": {},
          "output_type": "execute_result"
        }
      ],
      "source": [
        "df[['amt','city_pop']].describe().round()"
      ]
    },
    {
      "cell_type": "code",
      "execution_count": 73,
      "metadata": {},
      "outputs": [
        {
          "data": {
            "text/plain": [
              "Unnamed: 0               0\n",
              "trans_date_trans_time    0\n",
              "cc_num                   0\n",
              "merchant                 0\n",
              "category                 0\n",
              "amt                      0\n",
              "first                    0\n",
              "last                     0\n",
              "gender                   0\n",
              "street                   0\n",
              "city                     0\n",
              "state                    0\n",
              "zip                      0\n",
              "lat                      0\n",
              "long                     0\n",
              "city_pop                 0\n",
              "job                      0\n",
              "dob                      0\n",
              "trans_num                0\n",
              "unix_time                0\n",
              "merch_lat                0\n",
              "merch_long               0\n",
              "is_fraud                 0\n",
              "dtype: int64"
            ]
          },
          "execution_count": 73,
          "metadata": {},
          "output_type": "execute_result"
        }
      ],
      "source": [
        "df.isnull().sum()"
      ]
    },
    {
      "cell_type": "markdown",
      "metadata": {
        "id": "ZgAqFJd62UPl"
      },
      "source": [
        "Como se ve el dataset no cuenta con valores faltantes o nulos, tiene 23 columnas y 555.719 filas donde cada una es una transaccion diferente."
      ]
    },
    {
      "cell_type": "markdown",
      "metadata": {
        "id": "GDgvM99-Qadx"
      },
      "source": [
        "### Descripcion de columnas\n",
        "\n",
        "\n"
      ]
    },
    {
      "cell_type": "markdown",
      "metadata": {
        "id": "_Az3I9a83KTt"
      },
      "source": [
        "**Unnamed:** Índice numérico de las filas en el dataset. Esta no es necesaria, entonces la podemos sacar"
      ]
    },
    {
      "cell_type": "code",
      "execution_count": null,
      "metadata": {
        "id": "Otsm73qP4DLV"
      },
      "outputs": [],
      "source": [
        "df = df.drop(columns=['Unnamed: 0'])"
      ]
    },
    {
      "cell_type": "markdown",
      "metadata": {},
      "source": [
        "**trans_date_trans_time:** Fecha y hora en que se realizó la transacción. Tipo: Texto (formato datetime), variable: Cualitativa ordinal.\n",
        "\n",
        "**cc_num:** Número único asociado a la tarjeta de crédito utilizada en la transacción. Tipo: Entero largo, variable: Cualitativa nominal.\n",
        "\n",
        "**merchant:** Nombre del comerciante o tienda donde se realizó la transacción. Tipo: string, variable: Cualitativa nominal."
      ]
    },
    {
      "cell_type": "code",
      "execution_count": 30,
      "metadata": {},
      "outputs": [
        {
          "name": "stdout",
          "output_type": "stream",
          "text": [
            "Hay 693 nombres distintos de comerciantes en el Dataset.\n"
          ]
        }
      ],
      "source": [
        "n = df['merchant'].nunique()\n",
        "print('Hay',n,'nombres distintos de comerciantes en el Dataset.')"
      ]
    },
    {
      "cell_type": "markdown",
      "metadata": {},
      "source": [
        "**category**: Categoría del comerciante. Tipo: Texto, variable: Cualitativa nominal."
      ]
    },
    {
      "cell_type": "code",
      "execution_count": 48,
      "metadata": {},
      "outputs": [
        {
          "name": "stdout",
          "output_type": "stream",
          "text": [
            "Hay 14  diferentes categorias en el Dataset. Estas son: personal_care, health_fitness, misc_pos, travel, kids_pets, shopping_pos, food_dining, home, entertainment, shopping_net, misc_net, grocery_pos, gas_transport, grocery_net\n"
          ]
        }
      ],
      "source": [
        "n = df['category'].nunique()\n",
        "print('Hay',n,' diferentes categorias en el Dataset. Estas son:', end=\" \")\n",
        "print(\", \".join(str(category) for category in df['category'].unique()))\n"
      ]
    },
    {
      "cell_type": "markdown",
      "metadata": {},
      "source": [
        "**amt:** Monto de la transacción realizada. Tipo: Decimal, variable: Cuantitativa continua."
      ]
    },
    {
      "cell_type": "code",
      "execution_count": 42,
      "metadata": {},
      "outputs": [
        {
          "data": {
            "text/html": [
              "<div>\n",
              "<style scoped>\n",
              "    .dataframe tbody tr th:only-of-type {\n",
              "        vertical-align: middle;\n",
              "    }\n",
              "\n",
              "    .dataframe tbody tr th {\n",
              "        vertical-align: top;\n",
              "    }\n",
              "\n",
              "    .dataframe thead th {\n",
              "        text-align: right;\n",
              "    }\n",
              "</style>\n",
              "<table border=\"1\" class=\"dataframe\">\n",
              "  <thead>\n",
              "    <tr style=\"text-align: right;\">\n",
              "      <th></th>\n",
              "      <th>count</th>\n",
              "      <th>mean</th>\n",
              "      <th>std</th>\n",
              "      <th>min</th>\n",
              "      <th>25%</th>\n",
              "      <th>50%</th>\n",
              "      <th>75%</th>\n",
              "      <th>max</th>\n",
              "    </tr>\n",
              "  </thead>\n",
              "  <tbody>\n",
              "    <tr>\n",
              "      <th>amt</th>\n",
              "      <td>555719.0</td>\n",
              "      <td>69.0</td>\n",
              "      <td>157.0</td>\n",
              "      <td>1.0</td>\n",
              "      <td>10.0</td>\n",
              "      <td>47.0</td>\n",
              "      <td>83.0</td>\n",
              "      <td>22768.0</td>\n",
              "    </tr>\n",
              "  </tbody>\n",
              "</table>\n",
              "</div>"
            ],
            "text/plain": [
              "        count  mean    std  min   25%   50%   75%      max\n",
              "amt  555719.0  69.0  157.0  1.0  10.0  47.0  83.0  22768.0"
            ]
          },
          "execution_count": 42,
          "metadata": {},
          "output_type": "execute_result"
        }
      ],
      "source": [
        "df[['amt']].describe().round().T"
      ]
    },
    {
      "cell_type": "markdown",
      "metadata": {},
      "source": [
        "**first:** Nombre del titular de la tarjeta. Tipo: Texto, variable: Cualitativa nominal.\n",
        "\n",
        "**last:** Apellido del titular de la tarjeta. Tipo: Texto, variable: Cualitativa nominal.\n",
        "\n",
        "**gender:** Género del titular de la tarjeta. Tipo: Texto, variable: Cualitativa nominal."
      ]
    },
    {
      "cell_type": "code",
      "execution_count": null,
      "metadata": {},
      "outputs": [
        {
          "name": "stdout",
          "output_type": "stream",
          "text": [
            "Hay 2  diferentes generos en el Dataset. Estos son: M, F\n",
            "M para maculino y F para femenino\n"
          ]
        }
      ],
      "source": [
        "n = df['gender'].nunique()\n",
        "print('Hay',n,' diferentes generos en el Dataset. Estos son:', end=\" \")\n",
        "print(\", \".join(str(gender) for gender in df['gender'].unique()))\n",
        "print('M para maculino y F para femenino')"
      ]
    },
    {
      "cell_type": "markdown",
      "metadata": {},
      "source": [
        "**street:** Dirección del titular de la tarjeta. Tipo: Texto, variable: Cualitativa nominal.\n",
        "\n",
        "**city:** Ciudad del titular de la tarjeta. Tipo: Texto, variable: Cualitativa nominal."
      ]
    },
    {
      "cell_type": "code",
      "execution_count": 54,
      "metadata": {},
      "outputs": [
        {
          "name": "stdout",
          "output_type": "stream",
          "text": [
            "Hay 849 diferentes ciudades de EEUU en el Dataset.\n"
          ]
        }
      ],
      "source": [
        "n = df['city'].nunique()\n",
        "print('Hay',n,'diferentes ciudades de EEUU en el Dataset.')"
      ]
    },
    {
      "cell_type": "markdown",
      "metadata": {
        "id": "Jw2FWLzAQnE0"
      },
      "source": [
        "**zip:** Código postal del titular de la tarjeta. Tipo: Entero, variable: Cualitativa nominal.\n",
        "\n",
        "**lat:** Latitud de la dirección del titular de la tarjeta. Tipo: Decimal, variable: Cuantitativa continua.\n",
        "\n",
        "**long:** Longitud de la dirección del titular de la tarjeta. Tipo: Decimal, variable: Cuantitativa continua.\n",
        "\n",
        "**city_pop:** Población de la ciudad donde reside el titular de la tarjeta. Tipo: Entero, variable: Cuantitativa discreta.\n",
        "\n",
        "**job:** Profesión del titular de la tarjeta. Tipo: Texto, variable: Cualitativa nominal.\n",
        "\n",
        "**dob:** Fecha de nacimiento del titular de la tarjeta. Tipo: Fecha, variable: Cuantitativa continua.\n",
        "\n",
        "**trans_num:** Identificador único de la transacción. Tipo: Texto. variable: Cualitativa nominal.\n",
        "\n",
        "**unix_time:** Marca de tiempo de la transacción en formato Unix. *(es un sistema para representar el tiempo en informática. Se define como el número de segundos transcurridos desde la medianoche del 1 de enero de 1970 (UTC))* Tipo: Entero, variable: Cuantitativa continua.\n",
        "\n",
        "**merch_lat:** Latitud de la ubicación del comerciante. Tipo: Decimal, variable: Cuantitativa continua.\n",
        "\n",
        "**merch_long:** Longitud de la ubicación del comerciante. Tipo: Decimal, variable: Cuantitativa continua."
      ]
    },
    {
      "cell_type": "markdown",
      "metadata": {},
      "source": [
        "**is_fraud:** Indica si la transacción fue fraudulenta (1) o legítima (0). Tipo: Entero, variable: Cualitativa nominal."
      ]
    },
    {
      "cell_type": "code",
      "execution_count": 67,
      "metadata": {},
      "outputs": [
        {
          "name": "stdout",
          "output_type": "stream",
          "text": [
            "Hay 2145 transacciones fraudulentas y 553574 transacciones legítimas.\n"
          ]
        }
      ],
      "source": [
        "f = df['is_fraud'].sum()  \n",
        "l = len(df[df['is_fraud'] == 0])  \n",
        "\n",
        "print(f'Hay {f} transacciones fraudulentas y {l} transacciones legítimas.')\n"
      ]
    },
    {
      "cell_type": "markdown",
      "metadata": {
        "id": "AMjI7mqlOhVp"
      },
      "source": [
        "# Hipotesis y Preguntas"
      ]
    },
    {
      "cell_type": "markdown",
      "metadata": {
        "id": "Gv5RdQEsPDLo"
      },
      "source": [
        "## Hipótesis"
      ]
    },
    {
      "cell_type": "markdown",
      "metadata": {
        "id": "8oncPWiBPkml"
      },
      "source": [
        "Los fraudes en transacciones con tarjetas de crédito no ocurren al azar. Siguen patrones específicos relacionados con el monto de las transacciones, las características demográficas de los clientes y los momentos en que se realizan las operaciones, como días de la semana o franjas horarias."
      ]
    },
    {
      "cell_type": "markdown",
      "metadata": {
        "id": "URBtKN9iPwIn"
      },
      "source": [
        "## Preguntas"
      ]
    },
    {
      "cell_type": "markdown",
      "metadata": {
        "id": "6cBM7PDYQJTN"
      },
      "source": [
        "1.\t¿Hay diferencias en la proporción de fraudes según el género de los clientes?\n",
        "2.\t¿Existe una relación entre los montos altos de las transacciones y la probabilidad de que sean fraudulentas?\n",
        "3.\t¿Los fraudes son más comunes en ciertos días de la semana o franjas horarias?"
      ]
    },
    {
      "cell_type": "markdown",
      "metadata": {
        "id": "Wg2PF9Y4ZVDc"
      },
      "source": [
        "###1.\t¿Hay diferencias en la proporción de fraudes según el género de los clientes?"
      ]
    },
    {
      "cell_type": "markdown",
      "metadata": {
        "id": "dyNF8nzwIBSW"
      },
      "source": [
        "Esta pregunta busca identificar si existe un sesgo de género en las transacciones fraudulentas. Para ver esto, voy a hacer un conteo por genero de aquellas transacciones que hayan sido fraudulentas y representarlas con un grafico de barras."
      ]
    },
    {
      "cell_type": "code",
      "execution_count": 68,
      "metadata": {
        "id": "WCRP-7ZiFvjd"
      },
      "outputs": [],
      "source": [
        "#filtro transacciones que son fraude\n",
        "fraud_data = df[df['is_fraud'] == 1]"
      ]
    },
    {
      "cell_type": "code",
      "execution_count": 69,
      "metadata": {
        "colab": {
          "base_uri": "https://localhost:8080/",
          "height": 565
        },
        "id": "k-jUQOFXbWAJ",
        "outputId": "0f76e9fb-06ea-45c7-8dcb-24457f3a2b29"
      },
      "outputs": [
        {
          "data": {
            "image/png": "[encoded data removed]",
            "text/plain": [
              "<Figure size 800x600 with 1 Axes>"
            ]
          },
          "metadata": {},
          "output_type": "display_data"
        }
      ],
      "source": [
        "# Agrupo por género y cuento\n",
        "fraud_counts = fraud_data['gender'].value_counts().reset_index()\n",
        "fraud_counts.columns = ['gender', 'count']\n",
        "\n",
        "# grafico de barras\n",
        "plt.figure(figsize=(8, 6))\n",
        "sns.barplot(data=fraud_counts, x='gender', y='count', hue='gender')\n",
        "\n",
        "plt.title('Cantidad de fraudes por género')\n",
        "plt.xlabel('Género')\n",
        "plt.ylabel('Cantidad de fraudes')\n",
        "\n",
        "plt.show()\n"
      ]
    },
    {
      "cell_type": "markdown",
      "metadata": {
        "id": "GiSe_KbWIiZR"
      },
      "source": [
        "Se puede ver cómo el sexo femenino es quien tiene mayor número de transacciones fraudulentas."
      ]
    },
    {
      "cell_type": "markdown",
      "metadata": {
        "id": "MfGDkxbdJaue"
      },
      "source": [
        "Con este gráfico de violín intento representar la cantidad de dinero gastado en una transacción según el género."
      ]
    },
    {
      "cell_type": "code",
      "execution_count": 70,
      "metadata": {
        "colab": {
          "base_uri": "https://localhost:8080/",
          "height": 565
        },
        "id": "-bOoGR0piNfT",
        "outputId": "691350df-c919-433d-bbf9-5decd92a5b20"
      },
      "outputs": [
        {
          "data": {
            "image/png": "[encoded data removed]",
            "text/plain": [
              "<Figure size 1000x600 with 1 Axes>"
            ]
          },
          "metadata": {},
          "output_type": "display_data"
        }
      ],
      "source": [
        "plt.figure(figsize=(10, 6))\n",
        "#grafico de violin\n",
        "sns.violinplot(\n",
        "    data=fraud_data,\n",
        "    x='gender',\n",
        "    y='amt',\n",
        "    hue='gender'\n",
        ")\n",
        "\n",
        "plt.title('Distribución de montos en transacciones fraudulentas por género')\n",
        "plt.xlabel('Género')\n",
        "plt.ylabel('Monto de transacción ($)')\n",
        "plt.show()\n"
      ]
    },
    {
      "cell_type": "markdown",
      "metadata": {
        "id": "NBZdTQPfJxA6"
      },
      "source": [
        "El gráfico de violín muestra que, los hombres en la media sufren transacciones fraudulentas con montos superiores a 500. En cambio, las mujeres, quienes son más propensas a ser victimas de transacciones fraudulentas, según el primer gráfico, tienen una media que apenas supera los 250."
      ]
    },
    {
      "cell_type": "markdown",
      "metadata": {
        "id": "2MaDQixgZVy7"
      },
      "source": [
        "###2.\t¿Existe una relación entre los montos altos de las transacciones y la probabilidad de que sean fraudulentas?"
      ]
    },
    {
      "cell_type": "markdown",
      "metadata": {
        "id": "mCfSTBn5P7rU"
      },
      "source": [
        "La idea es que por medio de un grafico de dispersion ver todas las transacciones separadas por si son o no fraudulentas y y ver si entre los montos de cada una hay algun tipo de relacion."
      ]
    },
    {
      "cell_type": "code",
      "execution_count": 71,
      "metadata": {
        "colab": {
          "base_uri": "https://localhost:8080/",
          "height": 565
        },
        "id": "hFwg57m8w-pc",
        "outputId": "3a8d4fd3-e00b-45cb-d89c-66816eaa86d4"
      },
      "outputs": [
        {
          "data": {
            "image/png": "[encoded data removed]",
            "text/plain": [
              "<Figure size 1000x600 with 1 Axes>"
            ]
          },
          "metadata": {},
          "output_type": "display_data"
        }
      ],
      "source": [
        "# gráfico de dispersión\n",
        "plt.figure(figsize=(10, 6))\n",
        "sns.scatterplot(data=df, x='amt', y='is_fraud', hue='is_fraud', alpha=0.5)\n",
        "\n",
        "# Configurar el gráfico\n",
        "plt.title('Relación entre montos de transacciones y probabilidad de fraude')\n",
        "plt.xlabel('Monto de la transacción')\n",
        "plt.ylabel('¿Es fraude?')\n",
        "\n",
        "#cambia las etiquetas de la y\n",
        "plt.yticks([0, 1], ['No', 'Sí'])\n",
        "\n",
        "# Personalizar la leyenda para que respete los colores\n",
        "handles, labels = plt.gca().get_legend_handles_labels()\n",
        "\n",
        "# Cambiar las etiquetas de la leyenda\n",
        "labels = ['No', 'Sí']\n",
        "\n",
        "# Actualizar la leyenda\n",
        "plt.legend(handles=handles, labels=labels, title='¿Es fraude?')\n",
        "plt.show()\n"
      ]
    },
    {
      "cell_type": "markdown",
      "metadata": {
        "id": "OB4YhEc0O3V-"
      },
      "source": [
        "De todas las transacciones, aquellas que son fraudulentas tienen un rango limitado en el monto gastado, generalmente no superan los 2.000. En cambio, las transacciones no fraudulentas tienen un rango más amplio, con montos que llegan hasta los 300.000.\n",
        "\n",
        "Esto sugiere que los montos altos no están necesariamente asociados con un mayor riesgo de fraude, lo que podría indicar que los fraudes se enfocan en transacciones más pequeñas para pasar desapercibidos."
      ]
    },
    {
      "cell_type": "markdown",
      "metadata": {
        "id": "5Zl7_9erZWlU"
      },
      "source": [
        "###3.\t¿Los fraudes son más comunes en ciertos días de la semana y/o franjas horarias?"
      ]
    },
    {
      "cell_type": "markdown",
      "metadata": {
        "id": "BsSSVoSlRV1Y"
      },
      "source": [
        "Dada las fechas y los horarios de transacciones fradulentas, se van a contabilizar y ver si hay algun patron, usando drafico de barras separado por diuas y agrupado por franja horaria."
      ]
    },
    {
      "cell_type": "code",
      "execution_count": null,
      "metadata": {
        "colab": {
          "base_uri": "https://localhost:8080/",
          "height": 807
        },
        "id": "PtQl_nutwf1V",
        "outputId": "f75a0c60-8778-40a6-9a5d-a4f6dead98b0"
      },
      "outputs": [
        {
          "data": {
            "image/png": "[encoded data removed]",
            "text/plain": [
              "<Figure size 1200x800 with 1 Axes>"
            ]
          },
          "metadata": {},
          "output_type": "display_data"
        }
      ],
      "source": [
        "# de string a datetime\n",
        "df['trans_date_trans_time'] = pd.to_datetime(df['trans_date_trans_time'])\n",
        "\n",
        "# dia de la semana (0 = lunes, 6 = domingo)\n",
        "df['day_of_week'] = df['trans_date_trans_time'].dt.dayofweek\n",
        "\n",
        "# hora\n",
        "df['hour'] = df['trans_date_trans_time'].dt.hour\n",
        "\n",
        "# franja horaria\n",
        "def get_time_range(hour):\n",
        "    if 6 <= hour < 12:\n",
        "        return 'Mañana (6-12)'\n",
        "    elif 12 <= hour < 18:\n",
        "        return 'Tarde (12-18)'\n",
        "    elif 18 <= hour < 24:\n",
        "        return 'Noche (18-24)'\n",
        "    else:\n",
        "        return 'Madrugada (0-6)'\n",
        "\n",
        "df['time_range'] = df['hour'].apply(get_time_range)#funcion que cree\n",
        "\n",
        "# dias\n",
        "days = ['Lunes', 'Martes', 'Miércoles', 'Jueves', 'Viernes', 'Sábado', 'Domingo']\n",
        "\n",
        "# agrupa por dia y franja horaria\n",
        "fraud_grouped = fraud_data.groupby(['day_of_week', 'time_range']).size().reset_index(name='count')\n",
        "\n",
        "# total de fraudes por dia y se ordena de mayor a menor\n",
        "total_frauds_by_day = fraud_grouped.groupby('day_of_week')['count'].sum().sort_values(ascending=False)\n",
        "\n",
        "# Ajustar el orden de los días de la semana según el total de fraudes\n",
        "day_order = total_frauds_by_day.index.tolist()\n",
        "fraud_grouped['day_of_week'] = pd.Categorical(fraud_grouped['day_of_week'], categories=day_order, ordered=True)\n",
        "\n",
        "# grafico de barras\n",
        "plt.figure(figsize=(12, 8))\n",
        "sns.barplot( data=fraud_grouped, x='day_of_week', y='count', hue='time_range')\n",
        "\n",
        "ordered_days = [days[i] for i in day_order]\n",
        "plt.xticks(ticks=range(len(day_order)), labels=ordered_days)\n",
        "\n",
        "plt.title('Fraudes por día de la semana y franja horaria (ordenados)')\n",
        "plt.xlabel('Día de la semana')\n",
        "plt.ylabel('Cantidad de fraudes')\n",
        "plt.legend(title='Franja horaria')\n",
        "plt.tight_layout()\n",
        "plt.show()\n"
      ]
    },
    {
      "cell_type": "markdown",
      "metadata": {
        "id": "4d2spGq6WrUc"
      },
      "source": [
        "Los días en que más fraudes se cometen son los domingos, martes y jueves, mientras que el resto de los días de la semana presentan valores muy similares. Las franjas horarias son muy parecidas entre todos los dias siendo madrugada y noche las que mas destacan mientras que tarde y mañana se mantinen al minimo por igual en todos los dias.\n",
        "\n",
        "El hecho de que los fraudes sean más comunes los domingos y en los horarios noche y madrugada, podría estar relacionado con un menor monitoreo de las transacciones durante los fines de semana."
      ]
    }
  ],
  "metadata": {
    "colab": {
      "include_colab_link": true,
      "provenance": []
    },
    "kernelspec": {
      "display_name": "base",
      "language": "python",
      "name": "python3"
    },
    "language_info": {
      "codemirror_mode": {
        "name": "ipython",
        "version": 3
      },
      "file_extension": ".py",
      "mimetype": "text/x-python",
      "name": "python",
      "nbconvert_exporter": "python",
      "pygments_lexer": "ipython3",
      "version": "3.12.3"
    }
  },
  "nbformat": 4,
  "nbformat_minor": 0
}
